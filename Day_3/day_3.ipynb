{
 "cells": [
  {
   "cell_type": "code",
   "execution_count": 13,
   "id": "df50b50c",
   "metadata": {},
   "outputs": [],
   "source": [
    "import cv2\n",
    "import numpy as np\n",
    "\n",
    "\n",
    "cap = cv2.VideoCapture(0)\n",
    "\n",
    "def findDot (color_mask, cnv):\n",
    "    \n",
    "    moments = cv2.moments(color_mask, 1)\n",
    "    dM01 = moments['m01']\n",
    "    dM10 = moments['m10']\n",
    "    dArea = moments['m00']\n",
    "\n",
    "    if dArea > 100:\n",
    "        x = int(dM10 / dArea)\n",
    "        y = int(dM01 / dArea)\n",
    "        cv2.circle(cnv, (x, y), 10, (0,0,255), -1)\n",
    "\n",
    "def drawFirstAndSecondContour(color_mask, cnv):\n",
    "    contours, hierarchy = cv2.findContours( color_mask, cv2.RETR_TREE, cv2.CHAIN_APPROX_SIMPLE)\n",
    "    \n",
    "    contours = sorted(contours, key=cv2.contourArea, reverse = True)\n",
    "    \n",
    "    try:\n",
    "        if cv2.contourArea(contours[0]) > 100:\n",
    "            cv2.drawContours( cnv, contours, contourIdx=0, color=(0,255,0), thickness=1 )\n",
    "            cv2.drawContours( cnv, contours, contourIdx=1, color=(255,255,0), thickness=1 )\n",
    "    except:\n",
    "        pass\n",
    "\n",
    "while True:\n",
    "    ret, frame = cap.read()\n",
    "    frame_HSV = cv2.cvtColor(frame , cv2.COLOR_BGR2HSV) \n",
    "    # красный \n",
    "    red_low = (0,140,160)\n",
    "    red_high = (15,255,255)\n",
    "\n",
    "    \n",
    "    frame_reds = cv2.inRange(frame_HSV, red_low, red_high)\n",
    "    findDot(frame_reds, frame)\n",
    "    drawFirstAndSecondContour(frame_reds, frame)\n",
    "\n",
    "    cv2.imshow('original', frame )\n",
    "    cv2.imshow('red', frame_reds )\n",
    "    if cv2.waitKey(1) == 27:\n",
    "        break\n",
    "\n",
    "\n",
    "\n",
    "cap.release()\n",
    "cv2.destroyAllWindows()\n"
   ]
  },
  {
   "cell_type": "code",
   "execution_count": null,
   "id": "15940702",
   "metadata": {},
   "outputs": [],
   "source": []
  }
 ],
 "metadata": {
  "kernelspec": {
   "display_name": "Python 3 (ipykernel)",
   "language": "python",
   "name": "python3"
  },
  "language_info": {
   "codemirror_mode": {
    "name": "ipython",
    "version": 3
   },
   "file_extension": ".py",
   "mimetype": "text/x-python",
   "name": "python",
   "nbconvert_exporter": "python",
   "pygments_lexer": "ipython3",
   "version": "3.10.4"
  }
 },
 "nbformat": 4,
 "nbformat_minor": 5
}
